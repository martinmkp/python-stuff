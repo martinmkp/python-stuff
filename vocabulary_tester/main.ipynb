{
 "cells": [
  {
   "cell_type": "markdown",
   "id": "4191e0cb-77aa-4881-85db-86409a94d18c",
   "metadata": {},
   "source": [
    "# Vocabulary Tester"
   ]
  },
  {
   "cell_type": "code",
   "execution_count": 1,
   "id": "caeb5f4e-a72e-4f38-8ea2-84a808f67dfd",
   "metadata": {},
   "outputs": [],
   "source": [
    "import os\n",
    "import pandas as pd\n",
    "import sqlite3\n",
    "from words.add_table import add_to_db\n",
    "from words.create_db import create_db\n",
    "from words.read_from_db import read_from_db\n",
    "from word_test import word_test"
   ]
  },
  {
   "cell_type": "markdown",
   "id": "4b3a2b28-af6e-4e32-af56-d21d18cdbd1d",
   "metadata": {},
   "source": [
    "#### Create a new database"
   ]
  },
  {
   "cell_type": "code",
   "execution_count": null,
   "id": "007879c9-22f7-4375-85fe-8f7506caa8ef",
   "metadata": {},
   "outputs": [],
   "source": [
    "# directory = \"words\"\n",
    "# xlsx_name = \"ch9.xlsx\"\n",
    "# db_name = \"japanese.db\"\n",
    "\n",
    "# path_xlsx = os.path.join(directory, xlsx_name)\n",
    "# path_db = os.path.join(directory, db_name)\n",
    "\n",
    "# create_db(path_xlsx, path_db)"
   ]
  },
  {
   "cell_type": "markdown",
   "id": "f943e705-b902-4aef-a737-48fbe70844bf",
   "metadata": {},
   "source": [
    "#### Add a new table to the database"
   ]
  },
  {
   "cell_type": "code",
   "execution_count": 3,
   "id": "7ebb7562-d7a1-4581-b5fe-23b5460dfb73",
   "metadata": {},
   "outputs": [
    {
     "name": "stdout",
     "output_type": "stream",
     "text": [
      "Successfully connected to the database words\\japanese.db.\n",
      "Words from the file words\\ch10.xlsx added to the sqlite table in words\\japanese.db.\n"
     ]
    }
   ],
   "source": [
    "# directory = \"words\"\n",
    "# xlsx_name = \"ch10.xlsx\"\n",
    "# db_name = \"japanese.db\"\n",
    "# table_name = \"ch10\"\n",
    "\n",
    "# path_xlsx = os.path.join(directory, xlsx_name)\n",
    "# path_db = os.path.join(directory, db_name)\n",
    "\n",
    "# add_to_db(path_xlsx, path_db, table_name)"
   ]
  },
  {
   "cell_type": "markdown",
   "id": "0f24f4fc-035e-4c65-a924-41831ea848c4",
   "metadata": {},
   "source": [
    "#### Vocabulary test"
   ]
  },
  {
   "cell_type": "code",
   "execution_count": null,
   "id": "47182029-f3c1-4e04-a796-01a715295243",
   "metadata": {},
   "outputs": [],
   "source": [
    "directory = \"words\"\n",
    "db_name = \"japanese.db\"\n",
    "table_name = \"ch10\"\n",
    "\n",
    "path_db = os.path.join(directory, db_name)\n",
    "\n",
    "words = read_from_db(path_db, table_name)\n",
    "word_test(words)"
   ]
  }
 ],
 "metadata": {
  "kernelspec": {
   "display_name": "Python (tutoriaali)",
   "language": "python",
   "name": "tutoriaali"
  },
  "language_info": {
   "codemirror_mode": {
    "name": "ipython",
    "version": 3
   },
   "file_extension": ".py",
   "mimetype": "text/x-python",
   "name": "python",
   "nbconvert_exporter": "python",
   "pygments_lexer": "ipython3",
   "version": "3.9.7"
  }
 },
 "nbformat": 4,
 "nbformat_minor": 5
}
