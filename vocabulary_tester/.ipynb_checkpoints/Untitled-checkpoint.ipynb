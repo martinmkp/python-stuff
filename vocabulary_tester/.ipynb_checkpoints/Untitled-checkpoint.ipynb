{
 "cells": [
  {
   "cell_type": "code",
   "execution_count": 1,
   "id": "caeb5f4e-a72e-4f38-8ea2-84a808f67dfd",
   "metadata": {},
   "outputs": [],
   "source": [
    "import numpy as np\n",
    "import pandas as pd"
   ]
  },
  {
   "cell_type": "code",
   "execution_count": null,
   "id": "1a4d3bc1-6fd6-47ec-a9f6-2c9fc0d7f2de",
   "metadata": {},
   "outputs": [],
   "source": [
    "def sanakoe(sanasto):\n",
    "    sanat = pd.read_xlsx(sanasto, header = 0)\n",
    "    sanat_vieras = list(sanat.iloc[:, 0])\n",
    "    sanat_suomi = list(sanat.iloc[:, 1])\n",
    "    \n",
    "    "
   ]
  },
  {
   "cell_type": "code",
   "execution_count": null,
   "id": "df90cc89-7f0c-4a52-a5fe-19aadc9748ff",
   "metadata": {},
   "outputs": [],
   "source": [
    "sanat = 'kpl_9.xlsx'"
   ]
  }
 ],
 "metadata": {
  "kernelspec": {
   "display_name": "Python (tutoriaali)",
   "language": "python",
   "name": "tutoriaali"
  },
  "language_info": {
   "codemirror_mode": {
    "name": "ipython",
    "version": 3
   },
   "file_extension": ".py",
   "mimetype": "text/x-python",
   "name": "python",
   "nbconvert_exporter": "python",
   "pygments_lexer": "ipython3",
   "version": "3.9.7"
  }
 },
 "nbformat": 4,
 "nbformat_minor": 5
}
