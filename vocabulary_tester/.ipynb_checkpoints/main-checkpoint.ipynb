{
 "cells": [
  {
   "cell_type": "code",
   "execution_count": 1,
   "id": "caeb5f4e-a72e-4f38-8ea2-84a808f67dfd",
   "metadata": {},
   "outputs": [],
   "source": [
    "import os\n",
    "import pandas as pd\n",
    "import sqlite3\n",
    "from words.create_db import create_db\n",
    "from words.read_from_db import read_from_db\n",
    "from word_test import word_test"
   ]
  },
  {
   "cell_type": "code",
   "execution_count": 2,
   "id": "47182029-f3c1-4e04-a796-01a715295243",
   "metadata": {},
   "outputs": [
    {
     "name": "stdin",
     "output_type": "stream",
     "text": [
      "Word 1/6: みずうみ:  a\n"
     ]
    },
    {
     "name": "stdout",
     "output_type": "stream",
     "text": [
      "Incorrect answer. The correct answer is: järvi\n"
     ]
    },
    {
     "name": "stdin",
     "output_type": "stream",
     "text": [
      "Word 2/6: たくさん :  a\n"
     ]
    },
    {
     "name": "stdout",
     "output_type": "stream",
     "text": [
      "Incorrect answer. The correct answer is: paljon\n"
     ]
    },
    {
     "name": "stdin",
     "output_type": "stream",
     "text": [
      "Word 3/6: ある:  a\n"
     ]
    },
    {
     "name": "stdout",
     "output_type": "stream",
     "text": [
      "Incorrect answer. The correct answer is: olla\n"
     ]
    },
    {
     "name": "stdin",
     "output_type": "stream",
     "text": [
      "Word 4/6: やま:  a\n"
     ]
    },
    {
     "name": "stdout",
     "output_type": "stream",
     "text": [
      "Incorrect answer. The correct answer is: vuori\n"
     ]
    },
    {
     "name": "stdin",
     "output_type": "stream",
     "text": [
      "Word 5/6: どこへ:  a\n"
     ]
    },
    {
     "name": "stdout",
     "output_type": "stream",
     "text": [
      "Incorrect answer. The correct answer is: mihin\n"
     ]
    },
    {
     "name": "stdin",
     "output_type": "stream",
     "text": [
      "Word 6/6: にほんへ:  a\n"
     ]
    },
    {
     "name": "stdout",
     "output_type": "stream",
     "text": [
      "Incorrect answer. The correct answer is: japaniin\n",
      "Results: 0/6\n"
     ]
    }
   ],
   "source": [
    "directory = \"words\"\n",
    "xlsx_name = \"ch9.xlsx\"\n",
    "db_name = \"japanese.db\"\n",
    "\n",
    "path_xlsx = os.path.join(directory, xlsx_name)\n",
    "path_db = os.path.join(directory, db_name)\n",
    "\n",
    "# create_db(path_xlsx, path_db)\n",
    "\n",
    "words = read_from_db(path_db)\n",
    "word_test(words)"
   ]
  }
 ],
 "metadata": {
  "kernelspec": {
   "display_name": "Python (tutoriaali)",
   "language": "python",
   "name": "tutoriaali"
  },
  "language_info": {
   "codemirror_mode": {
    "name": "ipython",
    "version": 3
   },
   "file_extension": ".py",
   "mimetype": "text/x-python",
   "name": "python",
   "nbconvert_exporter": "python",
   "pygments_lexer": "ipython3",
   "version": "3.9.7"
  }
 },
 "nbformat": 4,
 "nbformat_minor": 5
}
