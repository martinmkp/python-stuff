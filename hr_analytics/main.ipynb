{
 "cells": [
  {
   "cell_type": "markdown",
   "id": "6dedf04d-a594-4940-8807-d94ca3644e0d",
   "metadata": {},
   "source": [
    "# HR Analytics\n",
    "### A predictive analytics project on HR data"
   ]
  },
  {
   "cell_type": "code",
   "execution_count": 1,
   "id": "8356c8e4-1ee4-4dad-aed3-29101ed2a12e",
   "metadata": {},
   "outputs": [],
   "source": [
    "import numpy as np\n",
    "import pandas as pd\n",
    "import seaborn as sn\n",
    "import matplotlib.pyplot as plt\n",
    "from sklearn.model_selection import train_test_split\n",
    "from sklearn.preprocessing import LabelEncoder\n",
    "label_encoder = LabelEncoder()\n",
    "from sklearn.linear_model import LogisticRegression\n",
    "from sklearn.metrics import classification_report, confusion_matrix"
   ]
  },
  {
   "cell_type": "markdown",
   "id": "1745d4d4-a390-414e-9f57-838939094dc6",
   "metadata": {},
   "source": [
    "### 1. Introduction\n",
    "The goal of this project is to study whether the resignation of employees can be predicted from certain variables. In addition, possible xplanations behind the resignations are discussed.\n",
    "<br><br>\n",
    "This project is based on the project \"HR Analytics\" on Kaggle: https://www.kaggle.com/jacksonchou/hr-analytics/report"
   ]
  },
  {
   "cell_type": "markdown",
   "id": "70575367-322f-41fe-b8e5-e7b349ad304d",
   "metadata": {},
   "source": [
    "### 1. Data"
   ]
  },
  {
   "cell_type": "code",
   "execution_count": 4,
   "id": "155a8231-5b12-461e-8522-e5570535cee0",
   "metadata": {},
   "outputs": [],
   "source": [
    "# Source for the dataset: https://www.kaggle.com/jacksonchou/hr-analytics/report\n",
    "def datareader(path):\n",
    "    \"\"\"\n",
    "    Reads the data file from the given path and returns a pandas dataframe.\n",
    "    \"\"\"\n",
    "    dataframe = pd.read_csv(\"HR_comma_sep.csv\")\n",
    "    return dataframe"
   ]
  },
  {
   "cell_type": "markdown",
   "id": "af44f814-d8b3-4801-a985-0b8951d2f7eb",
   "metadata": {},
   "source": [
    "##### First look at the dataset\n",
    "The dataset consists of 14999 data points (rows), each representing an employee. From each employee, the following information has been collected:"
   ]
  },
  {
   "cell_type": "markdown",
   "id": "ae586eef-54d7-4efb-b409-39d1caf389d3",
   "metadata": {},
   "source": [
    "We see that the dataset consists of 14999 rows and 10 columns of data, with no missing values. Of those columns, 8/10 consist of numerical data, and two of categorical data. Let's take a closer look at the column data."
   ]
  },
  {
   "cell_type": "code",
   "execution_count": 5,
   "id": "f7b3de01-4585-401c-8d43-adc77f3222f6",
   "metadata": {},
   "outputs": [
    {
     "name": "stdout",
     "output_type": "stream",
     "text": [
      "The dataset has 14999 rows, and 10 columns. Therefore, there are totally 149990 possible values. Out of those possible values, 0 were missing. \n",
      "\n",
      "satisfaction_level       float64\n",
      "last_evaluation          float64\n",
      "number_project             int64\n",
      "average_montly_hours       int64\n",
      "time_spend_company         int64\n",
      "Work_accident              int64\n",
      "left                       int64\n",
      "promotion_last_5years      int64\n",
      "sales                     object\n",
      "salary                    object\n",
      "dtype: object\n",
      "       satisfaction_level  last_evaluation  number_project  \\\n",
      "count        14999.000000     14999.000000    14999.000000   \n",
      "mean             0.612834         0.716102        3.803054   \n",
      "std              0.248631         0.171169        1.232592   \n",
      "min              0.090000         0.360000        2.000000   \n",
      "25%              0.440000         0.560000        3.000000   \n",
      "50%              0.640000         0.720000        4.000000   \n",
      "75%              0.820000         0.870000        5.000000   \n",
      "max              1.000000         1.000000        7.000000   \n",
      "\n",
      "       average_montly_hours  time_spend_company  Work_accident          left  \\\n",
      "count          14999.000000        14999.000000   14999.000000  14999.000000   \n",
      "mean             201.050337            3.498233       0.144610      0.238083   \n",
      "std               49.943099            1.460136       0.351719      0.425924   \n",
      "min               96.000000            2.000000       0.000000      0.000000   \n",
      "25%              156.000000            3.000000       0.000000      0.000000   \n",
      "50%              200.000000            3.000000       0.000000      0.000000   \n",
      "75%              245.000000            4.000000       0.000000      0.000000   \n",
      "max              310.000000           10.000000       1.000000      1.000000   \n",
      "\n",
      "       promotion_last_5years  \n",
      "count           14999.000000  \n",
      "mean                0.021268  \n",
      "std                 0.144281  \n",
      "min                 0.000000  \n",
      "25%                 0.000000  \n",
      "50%                 0.000000  \n",
      "75%                 0.000000  \n",
      "max                 1.000000   \n",
      "\n"
     ]
    },
    {
     "data": {
      "text/html": [
       "<div>\n",
       "<style scoped>\n",
       "    .dataframe tbody tr th:only-of-type {\n",
       "        vertical-align: middle;\n",
       "    }\n",
       "\n",
       "    .dataframe tbody tr th {\n",
       "        vertical-align: top;\n",
       "    }\n",
       "\n",
       "    .dataframe thead th {\n",
       "        text-align: right;\n",
       "    }\n",
       "</style>\n",
       "<table border=\"1\" class=\"dataframe\">\n",
       "  <thead>\n",
       "    <tr style=\"text-align: right;\">\n",
       "      <th></th>\n",
       "      <th>satisfaction_level</th>\n",
       "      <th>last_evaluation</th>\n",
       "      <th>number_project</th>\n",
       "      <th>average_montly_hours</th>\n",
       "      <th>time_spend_company</th>\n",
       "      <th>Work_accident</th>\n",
       "      <th>left</th>\n",
       "      <th>promotion_last_5years</th>\n",
       "      <th>sales</th>\n",
       "      <th>salary</th>\n",
       "    </tr>\n",
       "  </thead>\n",
       "  <tbody>\n",
       "    <tr>\n",
       "      <th>0</th>\n",
       "      <td>0.38</td>\n",
       "      <td>0.53</td>\n",
       "      <td>2</td>\n",
       "      <td>157</td>\n",
       "      <td>3</td>\n",
       "      <td>0</td>\n",
       "      <td>1</td>\n",
       "      <td>0</td>\n",
       "      <td>sales</td>\n",
       "      <td>low</td>\n",
       "    </tr>\n",
       "    <tr>\n",
       "      <th>1</th>\n",
       "      <td>0.80</td>\n",
       "      <td>0.86</td>\n",
       "      <td>5</td>\n",
       "      <td>262</td>\n",
       "      <td>6</td>\n",
       "      <td>0</td>\n",
       "      <td>1</td>\n",
       "      <td>0</td>\n",
       "      <td>sales</td>\n",
       "      <td>medium</td>\n",
       "    </tr>\n",
       "    <tr>\n",
       "      <th>2</th>\n",
       "      <td>0.11</td>\n",
       "      <td>0.88</td>\n",
       "      <td>7</td>\n",
       "      <td>272</td>\n",
       "      <td>4</td>\n",
       "      <td>0</td>\n",
       "      <td>1</td>\n",
       "      <td>0</td>\n",
       "      <td>sales</td>\n",
       "      <td>medium</td>\n",
       "    </tr>\n",
       "  </tbody>\n",
       "</table>\n",
       "</div>"
      ],
      "text/plain": [
       "   satisfaction_level  last_evaluation  number_project  average_montly_hours  \\\n",
       "0                0.38             0.53               2                   157   \n",
       "1                0.80             0.86               5                   262   \n",
       "2                0.11             0.88               7                   272   \n",
       "\n",
       "   time_spend_company  Work_accident  left  promotion_last_5years  sales  \\\n",
       "0                   3              0     1                      0  sales   \n",
       "1                   6              0     1                      0  sales   \n",
       "2                   4              0     1                      0  sales   \n",
       "\n",
       "   salary  \n",
       "0     low  \n",
       "1  medium  \n",
       "2  medium  "
      ]
     },
     "execution_count": 5,
     "metadata": {},
     "output_type": "execute_result"
    }
   ],
   "source": [
    "path = \"HR_comma_sep.csv\"\n",
    "df = datareader(path)\n",
    "print(f\"The dataset has {df.shape[0]} rows, and {df.shape[1]} columns. Therefore, there are totally {df.shape[0]*df.shape[1]} possible values. Out of those possible values, {df.isnull().sum().sum()} were missing. \\n\")\n",
    "print(df.dtypes)\n",
    "print(df.describe(), \"\\n\")\n",
    "df.head(3)"
   ]
  },
  {
   "cell_type": "markdown",
   "id": "5e34ba22-7629-449c-af17-2d740c0d12a8",
   "metadata": {},
   "source": [
    "The variable \"left\" is a binary variable, describing whether the employee is has or has not the firm. It is also the property we aim to predict in this project. <br><br>\n",
    "\n",
    "Some notes on the other variables (including some guessing):\n",
    "* satisfaction_level: Measures job satisfaction, a value between 0 and 1\n",
    "* last_evaluation: Presumably a grade given by the manager, takes a value between 0 and 1\n",
    "* number_project: Presumably, the number of projects within the given timeframe.\n",
    "* average_montly_hours: number of hours worked per month\n",
    "* time_spend_company: Presumably, the number of years spent in the company\n",
    "* Work accident: Number of work related accidents, or a binary variable.\n",
    "* promotion_last_5years: A binary variable, telling whether the employee was promoted during the last 5 years.\n",
    "* sales: A categorical variable on the section, e.g. sales, hr, technical, etc.\n",
    "* salary: A categorical variable on the wage"
   ]
  },
  {
   "cell_type": "markdown",
   "id": "422d8506-9311-4f01-b010-fe454381e5a8",
   "metadata": {},
   "source": [
    "The last two variables, not being numerical, but being categorical, can be replaced with numerical data:"
   ]
  },
  {
   "cell_type": "code",
   "execution_count": 6,
   "id": "742ee06c-1a6f-4aa2-89d9-4e3c56186853",
   "metadata": {},
   "outputs": [],
   "source": [
    "df['sales'] = label_encoder.fit_transform(df['sales'])\n",
    "df['salary'] = label_encoder.fit_transform(df['salary'])"
   ]
  },
  {
   "cell_type": "code",
   "execution_count": 7,
   "id": "4e781ef8-ee5d-4442-97f2-38a6e0ff083c",
   "metadata": {},
   "outputs": [
    {
     "data": {
      "text/html": [
       "<div>\n",
       "<style scoped>\n",
       "    .dataframe tbody tr th:only-of-type {\n",
       "        vertical-align: middle;\n",
       "    }\n",
       "\n",
       "    .dataframe tbody tr th {\n",
       "        vertical-align: top;\n",
       "    }\n",
       "\n",
       "    .dataframe thead th {\n",
       "        text-align: right;\n",
       "    }\n",
       "</style>\n",
       "<table border=\"1\" class=\"dataframe\">\n",
       "  <thead>\n",
       "    <tr style=\"text-align: right;\">\n",
       "      <th></th>\n",
       "      <th>satisfaction_level</th>\n",
       "      <th>last_evaluation</th>\n",
       "      <th>number_project</th>\n",
       "      <th>average_montly_hours</th>\n",
       "      <th>time_spend_company</th>\n",
       "      <th>Work_accident</th>\n",
       "      <th>left</th>\n",
       "      <th>promotion_last_5years</th>\n",
       "      <th>sales</th>\n",
       "      <th>salary</th>\n",
       "    </tr>\n",
       "  </thead>\n",
       "  <tbody>\n",
       "    <tr>\n",
       "      <th>0</th>\n",
       "      <td>0.38</td>\n",
       "      <td>0.53</td>\n",
       "      <td>2</td>\n",
       "      <td>157</td>\n",
       "      <td>3</td>\n",
       "      <td>0</td>\n",
       "      <td>1</td>\n",
       "      <td>0</td>\n",
       "      <td>7</td>\n",
       "      <td>1</td>\n",
       "    </tr>\n",
       "    <tr>\n",
       "      <th>1</th>\n",
       "      <td>0.80</td>\n",
       "      <td>0.86</td>\n",
       "      <td>5</td>\n",
       "      <td>262</td>\n",
       "      <td>6</td>\n",
       "      <td>0</td>\n",
       "      <td>1</td>\n",
       "      <td>0</td>\n",
       "      <td>7</td>\n",
       "      <td>2</td>\n",
       "    </tr>\n",
       "    <tr>\n",
       "      <th>2</th>\n",
       "      <td>0.11</td>\n",
       "      <td>0.88</td>\n",
       "      <td>7</td>\n",
       "      <td>272</td>\n",
       "      <td>4</td>\n",
       "      <td>0</td>\n",
       "      <td>1</td>\n",
       "      <td>0</td>\n",
       "      <td>7</td>\n",
       "      <td>2</td>\n",
       "    </tr>\n",
       "    <tr>\n",
       "      <th>3</th>\n",
       "      <td>0.72</td>\n",
       "      <td>0.87</td>\n",
       "      <td>5</td>\n",
       "      <td>223</td>\n",
       "      <td>5</td>\n",
       "      <td>0</td>\n",
       "      <td>1</td>\n",
       "      <td>0</td>\n",
       "      <td>7</td>\n",
       "      <td>1</td>\n",
       "    </tr>\n",
       "    <tr>\n",
       "      <th>4</th>\n",
       "      <td>0.37</td>\n",
       "      <td>0.52</td>\n",
       "      <td>2</td>\n",
       "      <td>159</td>\n",
       "      <td>3</td>\n",
       "      <td>0</td>\n",
       "      <td>1</td>\n",
       "      <td>0</td>\n",
       "      <td>7</td>\n",
       "      <td>1</td>\n",
       "    </tr>\n",
       "  </tbody>\n",
       "</table>\n",
       "</div>"
      ],
      "text/plain": [
       "   satisfaction_level  last_evaluation  number_project  average_montly_hours  \\\n",
       "0                0.38             0.53               2                   157   \n",
       "1                0.80             0.86               5                   262   \n",
       "2                0.11             0.88               7                   272   \n",
       "3                0.72             0.87               5                   223   \n",
       "4                0.37             0.52               2                   159   \n",
       "\n",
       "   time_spend_company  Work_accident  left  promotion_last_5years  sales  \\\n",
       "0                   3              0     1                      0      7   \n",
       "1                   6              0     1                      0      7   \n",
       "2                   4              0     1                      0      7   \n",
       "3                   5              0     1                      0      7   \n",
       "4                   3              0     1                      0      7   \n",
       "\n",
       "   salary  \n",
       "0       1  \n",
       "1       2  \n",
       "2       2  \n",
       "3       1  \n",
       "4       1  "
      ]
     },
     "execution_count": 7,
     "metadata": {},
     "output_type": "execute_result"
    }
   ],
   "source": [
    "df.head(5)"
   ]
  },
  {
   "cell_type": "markdown",
   "id": "0271e1f4-057e-4ec1-8ba5-6027f6fe080e",
   "metadata": {},
   "source": [
    "### 2. Visualization\n",
    "Let's first calculate a correlation matrix for the variables:"
   ]
  },
  {
   "cell_type": "code",
   "execution_count": 8,
   "id": "5be0d773-07dc-4802-a4f3-7c79f1ea99f8",
   "metadata": {},
   "outputs": [
    {
     "data": {
      "text/plain": [
       "Text(0.5, 1.0, 'Correlation Heatmap')"
      ]
     },
     "execution_count": 8,
     "metadata": {},
     "output_type": "execute_result"
    },
    {
     "data": {
      "image/png": "[encoded data removed]",
      "text/plain": [
       "<Figure size 720x720 with 2 Axes>"
      ]
     },
     "metadata": {
      "needs_background": "light"
     },
     "output_type": "display_data"
    }
   ],
   "source": [
    "corr_matrix = df.corr() # Create the correlation matrix\n",
    "fig, ax = plt.subplots(figsize=(10,10))  \n",
    "sn.heatmap(corr_matrix, annot = True)\n",
    "plt.title(\"Correlation Heatmap\")"
   ]
  },
  {
   "cell_type": "markdown",
   "id": "44266b38-04ba-4c8a-b629-3cc68d58b614",
   "metadata": {},
   "source": [
    "We see that there seems to be some negative correlation between leaving the workplace and job satisfaction ($-0.39$). Also, time spend in the company is mildly positive correlated with with leaving the workplace ($0.14$). Also, the work accident rate is smewhat negatively correlated with leaving ($-0.15$)."
   ]
  },
  {
   "cell_type": "markdown",
   "id": "f540d2e4-57fe-4f0f-86cc-02e52be250d6",
   "metadata": {},
   "source": [
    "### 3. The Model\n",
    "#### Model description\n",
    "Next, let's create a model to predict whether the employee will be leaving his/her job or not. Based on the heatmap, we will use all the variables with correlation of larger than (smaller than) $0.1$ ($-0.1$) with the variable \"left\". We will use logistic regression as our model. Logistic rergession is used in problems where the explained variable is categorical, like in this case. <br> <br>\n",
    "\n",
    "The model describes the probability: <br>$Pr(Y = y | satisfaction, accidents, time_spent)$ where $y \\in \\{0, 1\\}$.\n",
    "<br>\n",
    "\n",
    "The model is of form:<br> $log(\\dfrac{p}{(1-p)}) = \\beta_0 + \\beta_{satisfaction} + \\beta_{accidents} + \\beta_{timespent}$\n",
    "\n",
    "#### Creating the trainng and the testing sets\n",
    "Next, the data is split into two parts, the training set to train the logistic regression model, and the test set to check the model performance. We will use a 80/20 ratio for training/testing data set."
   ]
  },
  {
   "cell_type": "code",
   "execution_count": 9,
   "id": "b1b72e13-d503-4f96-8327-03e9c595b2a7",
   "metadata": {},
   "outputs": [],
   "source": [
    "# First, let's create variables for explained and explaining variables\n",
    "df = df.sample(frac=1).reset_index(drop=True) #Shuffle the dataset\n",
    "y = df['left'] # Explained variable\n",
    "X = df[['satisfaction_level', 'time_spend_company', 'Work_accident']] # Explaining variables\n",
    "\n",
    "# Next split the data into training and testing sets\n",
    "X_train, X_test, y_train, y_test = train_test_split(X, y, test_size=0.2, random_state=42)"
   ]
  },
  {
   "cell_type": "markdown",
   "id": "1a082edf-062d-4d72-9093-4e892b76a44f",
   "metadata": {},
   "source": [
    "#### Training the model"
   ]
  },
  {
   "cell_type": "code",
   "execution_count": 10,
   "id": "b77736a1-4eb3-40fc-bdb3-3a7fee48efe8",
   "metadata": {},
   "outputs": [
    {
     "data": {
      "text/plain": [
       "LogisticRegression(random_state=0, solver='liblinear')"
      ]
     },
     "execution_count": 10,
     "metadata": {},
     "output_type": "execute_result"
    }
   ],
   "source": [
    "log_model = LogisticRegression(solver='liblinear', random_state=0)\n",
    "log_model.fit(X_train, y_train)"
   ]
  },
  {
   "cell_type": "markdown",
   "id": "09bb34e0-0542-409f-ba8d-da7cef5ddfda",
   "metadata": {},
   "source": [
    "### 4. Results\n",
    "The confusion matrix is of following form:"
   ]
  },
  {
   "cell_type": "code",
   "execution_count": 11,
   "id": "31058f9e-31ab-4369-9e9a-b622ce17bc6f",
   "metadata": {},
   "outputs": [
    {
     "data": {
      "text/plain": [
       "<AxesSubplot:>"
      ]
     },
     "execution_count": 11,
     "metadata": {},
     "output_type": "execute_result"
    },
    {
     "data": {
      "image/png": "[encoded data removed]",
      "text/plain": [
       "<Figure size 432x288 with 2 Axes>"
      ]
     },
     "metadata": {
      "needs_background": "light"
     },
     "output_type": "display_data"
    }
   ],
   "source": [
    "cf_matrix = confusion_matrix(y_test, log_model.predict(X_test))\n",
    "sn.heatmap(cf_matrix/np.sum(cf_matrix), annot = True, cmap='Greens')"
   ]
  },
  {
   "cell_type": "markdown",
   "id": "c361dd62-570c-4494-94ca-39fb665e867b",
   "metadata": {},
   "source": [
    "This means that the model correctly predicted approximately 76% of the values in the test set. To get the exact prediction accuracy we can calculate it:"
   ]
  },
  {
   "cell_type": "code",
   "execution_count": 12,
   "id": "dcbba272-e425-4d31-8fe8-c9d7e114dc16",
   "metadata": {},
   "outputs": [
    {
     "data": {
      "text/plain": [
       "0.778"
      ]
     },
     "execution_count": 12,
     "metadata": {},
     "output_type": "execute_result"
    }
   ],
   "source": [
    "round(log_model.score(X_test, y_test), 3)"
   ]
  },
  {
   "cell_type": "markdown",
   "id": "f556a84f-5e55-4aa9-b8f0-ff9753b0b8db",
   "metadata": {},
   "source": [
    "### 5. Only one explaining variable"
   ]
  },
  {
   "cell_type": "markdown",
   "id": "a4b42e3b-fd46-4bdd-9563-f13ba8fb4e26",
   "metadata": {},
   "source": [
    "Let's redo the same analysis, but only with one explaining variable, satisfaction level:"
   ]
  },
  {
   "cell_type": "code",
   "execution_count": 13,
   "id": "6cd11136-2d9e-4f16-928f-998559c2339c",
   "metadata": {},
   "outputs": [
    {
     "data": {
      "text/plain": [
       "LogisticRegression(random_state=0, solver='liblinear')"
      ]
     },
     "execution_count": 13,
     "metadata": {},
     "output_type": "execute_result"
    }
   ],
   "source": [
    "df = df.sample(frac=1).reset_index(drop=True) #Shuffle the dataset\n",
    "y = df['left'] # Explained variable\n",
    "X = df[['satisfaction_level']] # Explaining variables\n",
    "\n",
    "X_train, X_test, y_train, y_test = train_test_split(X, y, test_size=0.2, random_state=42)\n",
    "\n",
    "log_model = LogisticRegression(solver='liblinear', random_state=0)\n",
    "log_model.fit(X_train, y_train)"
   ]
  },
  {
   "cell_type": "code",
   "execution_count": 14,
   "id": "a63ebda6-b1fd-4a9b-bf9d-8327d75a56d1",
   "metadata": {},
   "outputs": [
    {
     "data": {
      "text/plain": [
       "<AxesSubplot:>"
      ]
     },
     "execution_count": 14,
     "metadata": {},
     "output_type": "execute_result"
    },
    {
     "data": {
      "image/png": "[encoded data removed]",
      "text/plain": [
       "<Figure size 432x288 with 2 Axes>"
      ]
     },
     "metadata": {
      "needs_background": "light"
     },
     "output_type": "display_data"
    }
   ],
   "source": [
    "cf_matrix = confusion_matrix(y_test, log_model.predict(X_test))\n",
    "sn.heatmap(cf_matrix/np.sum(cf_matrix), annot = True, cmap='Greens')"
   ]
  },
  {
   "cell_type": "code",
   "execution_count": 15,
   "id": "63fa4b45-95db-44ec-8fec-449aafa41352",
   "metadata": {},
   "outputs": [
    {
     "data": {
      "text/plain": [
       "0.781"
      ]
     },
     "execution_count": 15,
     "metadata": {},
     "output_type": "execute_result"
    }
   ],
   "source": [
    "round(log_model.score(X_test, y_test), 3)"
   ]
  },
  {
   "cell_type": "markdown",
   "id": "b2f1ed0e-16d8-433b-91d5-c99b85523ef1",
   "metadata": {},
   "source": [
    "The prediction accuracy was (interestingly) almost the same."
   ]
  },
  {
   "cell_type": "code",
   "execution_count": null,
   "id": "dc250144-6d6e-4e1b-9836-2bdf17c8187d",
   "metadata": {},
   "outputs": [],
   "source": []
  }
 ],
 "metadata": {
  "kernelspec": {
   "display_name": "Python (testausenv)",
   "language": "python",
   "name": "testausenv"
  },
  "language_info": {
   "codemirror_mode": {
    "name": "ipython",
    "version": 3
   },
   "file_extension": ".py",
   "mimetype": "text/x-python",
   "name": "python",
   "nbconvert_exporter": "python",
   "pygments_lexer": "ipython3",
   "version": "3.9.7"
  }
 },
 "nbformat": 4,
 "nbformat_minor": 5
}
