{
 "cells": [
  {
   "cell_type": "code",
   "execution_count": 1,
   "id": "caeb5f4e-a72e-4f38-8ea2-84a808f67dfd",
   "metadata": {},
   "outputs": [],
   "source": [
    "import pandas as pd\n",
    "from sanakoe import sanakoe"
   ]
  },
  {
   "cell_type": "code",
   "execution_count": null,
   "id": "df90cc89-7f0c-4a52-a5fe-19aadc9748ff",
   "metadata": {},
   "outputs": [],
   "source": [
    "sanasto = 'kpl_9.xlsx'\n",
    "sanakoe(sanasto)"
   ]
  },
  {
   "cell_type": "code",
   "execution_count": null,
   "id": "a52ed713-e8b2-4651-94a3-cc7ca10498d3",
   "metadata": {},
   "outputs": [],
   "source": []
  }
 ],
 "metadata": {
  "kernelspec": {
   "display_name": "Python (tutoriaali)",
   "language": "python",
   "name": "tutoriaali"
  },
  "language_info": {
   "codemirror_mode": {
    "name": "ipython",
    "version": 3
   },
   "file_extension": ".py",
   "mimetype": "text/x-python",
   "name": "python",
   "nbconvert_exporter": "python",
   "pygments_lexer": "ipython3",
   "version": "3.9.7"
  }
 },
 "nbformat": 4,
 "nbformat_minor": 5
}
